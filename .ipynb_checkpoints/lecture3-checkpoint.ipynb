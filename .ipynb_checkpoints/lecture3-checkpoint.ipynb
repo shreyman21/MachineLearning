{
 "cells": [
  {
   "cell_type": "code",
   "execution_count": 11,
   "metadata": {},
   "outputs": [
    {
     "ename": "FileNotFoundError",
     "evalue": "test_A.csv not found.",
     "output_type": "error",
     "traceback": [
      "\u001b[0;31m---------------------------------------------------------------------------\u001b[0m",
      "\u001b[0;31mFileNotFoundError\u001b[0m                         Traceback (most recent call last)",
      "Cell \u001b[0;32mIn[11], line 6\u001b[0m\n\u001b[1;32m      2\u001b[0m \u001b[38;5;28;01mimport\u001b[39;00m \u001b[38;5;21;01mnumpy\u001b[39;00m \u001b[38;5;28;01mas\u001b[39;00m \u001b[38;5;21;01mnp\u001b[39;00m\n\u001b[1;32m      3\u001b[0m \u001b[38;5;28;01mfrom\u001b[39;00m \u001b[38;5;21;01mnumpy\u001b[39;00m \u001b[38;5;28;01mimport\u001b[39;00m genfromtxt\n\u001b[0;32m----> 6\u001b[0m A \u001b[38;5;241m=\u001b[39m \u001b[43mgenfromtxt\u001b[49m\u001b[43m(\u001b[49m\u001b[38;5;124;43m'\u001b[39;49m\u001b[38;5;124;43mtest_A.csv\u001b[39;49m\u001b[38;5;124;43m'\u001b[39;49m\u001b[43m,\u001b[49m\u001b[43m \u001b[49m\u001b[43mdelimiter\u001b[49m\u001b[38;5;241;43m=\u001b[39;49m\u001b[38;5;124;43m'\u001b[39;49m\u001b[38;5;124;43m,\u001b[39;49m\u001b[38;5;124;43m'\u001b[39;49m\u001b[43m)\u001b[49m\n\u001b[1;32m      7\u001b[0m B \u001b[38;5;241m=\u001b[39m genfromtxt(\u001b[38;5;124m'\u001b[39m\u001b[38;5;124mtest_B.csv\u001b[39m\u001b[38;5;124m'\u001b[39m, delimiter\u001b[38;5;241m=\u001b[39m\u001b[38;5;124m'\u001b[39m\u001b[38;5;124m,\u001b[39m\u001b[38;5;124m'\u001b[39m)\n\u001b[1;32m      8\u001b[0m C \u001b[38;5;241m=\u001b[39m genfromtxt(\u001b[38;5;124m'\u001b[39m\u001b[38;5;124mtest_C.csv\u001b[39m\u001b[38;5;124m'\u001b[39m, delimiter\u001b[38;5;241m=\u001b[39m\u001b[38;5;124m'\u001b[39m\u001b[38;5;124m,\u001b[39m\u001b[38;5;124m'\u001b[39m)\n",
      "File \u001b[0;32m/opt/homebrew/Cellar/jupyterlab/4.2.3/libexec/lib/python3.12/site-packages/numpy/lib/_npyio_impl.py:2007\u001b[0m, in \u001b[0;36mgenfromtxt\u001b[0;34m(fname, dtype, comments, delimiter, skip_header, skip_footer, converters, missing_values, filling_values, usecols, names, excludelist, deletechars, replace_space, autostrip, case_sensitive, defaultfmt, unpack, usemask, loose, invalid_raise, max_rows, encoding, ndmin, like)\u001b[0m\n\u001b[1;32m   2005\u001b[0m     fname \u001b[38;5;241m=\u001b[39m os\u001b[38;5;241m.\u001b[39mfspath(fname)\n\u001b[1;32m   2006\u001b[0m \u001b[38;5;28;01mif\u001b[39;00m \u001b[38;5;28misinstance\u001b[39m(fname, \u001b[38;5;28mstr\u001b[39m):\n\u001b[0;32m-> 2007\u001b[0m     fid \u001b[38;5;241m=\u001b[39m \u001b[43mnp\u001b[49m\u001b[38;5;241;43m.\u001b[39;49m\u001b[43mlib\u001b[49m\u001b[38;5;241;43m.\u001b[39;49m\u001b[43m_datasource\u001b[49m\u001b[38;5;241;43m.\u001b[39;49m\u001b[43mopen\u001b[49m\u001b[43m(\u001b[49m\u001b[43mfname\u001b[49m\u001b[43m,\u001b[49m\u001b[43m \u001b[49m\u001b[38;5;124;43m'\u001b[39;49m\u001b[38;5;124;43mrt\u001b[39;49m\u001b[38;5;124;43m'\u001b[39;49m\u001b[43m,\u001b[49m\u001b[43m \u001b[49m\u001b[43mencoding\u001b[49m\u001b[38;5;241;43m=\u001b[39;49m\u001b[43mencoding\u001b[49m\u001b[43m)\u001b[49m\n\u001b[1;32m   2008\u001b[0m     fid_ctx \u001b[38;5;241m=\u001b[39m contextlib\u001b[38;5;241m.\u001b[39mclosing(fid)\n\u001b[1;32m   2009\u001b[0m \u001b[38;5;28;01melse\u001b[39;00m:\n",
      "File \u001b[0;32m/opt/homebrew/Cellar/jupyterlab/4.2.3/libexec/lib/python3.12/site-packages/numpy/lib/_datasource.py:192\u001b[0m, in \u001b[0;36mopen\u001b[0;34m(path, mode, destpath, encoding, newline)\u001b[0m\n\u001b[1;32m    155\u001b[0m \u001b[38;5;250m\u001b[39m\u001b[38;5;124;03m\"\"\"\u001b[39;00m\n\u001b[1;32m    156\u001b[0m \u001b[38;5;124;03mOpen `path` with `mode` and return the file object.\u001b[39;00m\n\u001b[1;32m    157\u001b[0m \n\u001b[0;32m   (...)\u001b[0m\n\u001b[1;32m    188\u001b[0m \n\u001b[1;32m    189\u001b[0m \u001b[38;5;124;03m\"\"\"\u001b[39;00m\n\u001b[1;32m    191\u001b[0m ds \u001b[38;5;241m=\u001b[39m DataSource(destpath)\n\u001b[0;32m--> 192\u001b[0m \u001b[38;5;28;01mreturn\u001b[39;00m \u001b[43mds\u001b[49m\u001b[38;5;241;43m.\u001b[39;49m\u001b[43mopen\u001b[49m\u001b[43m(\u001b[49m\u001b[43mpath\u001b[49m\u001b[43m,\u001b[49m\u001b[43m \u001b[49m\u001b[43mmode\u001b[49m\u001b[43m,\u001b[49m\u001b[43m \u001b[49m\u001b[43mencoding\u001b[49m\u001b[38;5;241;43m=\u001b[39;49m\u001b[43mencoding\u001b[49m\u001b[43m,\u001b[49m\u001b[43m \u001b[49m\u001b[43mnewline\u001b[49m\u001b[38;5;241;43m=\u001b[39;49m\u001b[43mnewline\u001b[49m\u001b[43m)\u001b[49m\n",
      "File \u001b[0;32m/opt/homebrew/Cellar/jupyterlab/4.2.3/libexec/lib/python3.12/site-packages/numpy/lib/_datasource.py:529\u001b[0m, in \u001b[0;36mDataSource.open\u001b[0;34m(self, path, mode, encoding, newline)\u001b[0m\n\u001b[1;32m    526\u001b[0m     \u001b[38;5;28;01mreturn\u001b[39;00m _file_openers[ext](found, mode\u001b[38;5;241m=\u001b[39mmode,\n\u001b[1;32m    527\u001b[0m                               encoding\u001b[38;5;241m=\u001b[39mencoding, newline\u001b[38;5;241m=\u001b[39mnewline)\n\u001b[1;32m    528\u001b[0m \u001b[38;5;28;01melse\u001b[39;00m:\n\u001b[0;32m--> 529\u001b[0m     \u001b[38;5;28;01mraise\u001b[39;00m \u001b[38;5;167;01mFileNotFoundError\u001b[39;00m(\u001b[38;5;124mf\u001b[39m\u001b[38;5;124m\"\u001b[39m\u001b[38;5;132;01m{\u001b[39;00mpath\u001b[38;5;132;01m}\u001b[39;00m\u001b[38;5;124m not found.\u001b[39m\u001b[38;5;124m\"\u001b[39m)\n",
      "\u001b[0;31mFileNotFoundError\u001b[0m: test_A.csv not found."
     ]
    }
   ],
   "source": [
    "#Load A,B,C,x,y,z from file into arrays\n",
    "import numpy as np\n",
    "from numpy import genfromtxt\n",
    "\n",
    "\n",
    "A = genfromtxt('/Users/shreyas/Desktop/ML/test_A.csv', delimiter=',')\n",
    "B = genfromtxt('/Users/shreyas/Desktop/ML/test_B.csv', delimiter=',')\n",
    "C = genfromtxt('/Users/shreyas/Desktop/ML/test_C.csv', delimiter=',')\n",
    "x = genfromtxt('/Users/shreyas/Desktop/ML/test_x.csv', delimiter=',')\n",
    "y = genfromtxt('/Users/shreyas/Desktop/ML/test_y.csv', delimiter=',')\n",
    "z = genfromtxt('/Users/shreyas/Desktop/ML/test_z.csv', delimiter=',')\n",
    "\n",
    "\n",
    "x = x.reshape(5,1)\n",
    "y = y.reshape(5,1)\n",
    "z = z.reshape(3,1)\n",
    "\n",
    "#1 <A,A>\n",
    "A_dot_A = np.dot(A.T,A)\n",
    "\n",
    "\n",
    "#2 A hadddamard B\n",
    "A_hadamard_B = np.multiply(A,B)\n",
    "\n",
    "#3 Tr(x ⨂ y )\n",
    "x_kron_y = np.kron(x,y)\n",
    "\n",
    "#4 AB^T\n",
    "AB_T = np.dot(A,B.T)\n",
    "\n",
    "#5 A^TBCx\n",
    "ATBCx = A.dot(B.T).dot(C).dot(x)\n",
    "\n",
    "#6 C(x + y)\n",
    "C_x_plus_y = np.dot(C,x+y)\n",
    "\n",
    "#7 ||x||0, ||x||1, ||x||2, ||x||inf\n",
    "x_0 = np.count_nonzero(x)\n",
    "x_1 = np.linalg.norm(x,1)\n",
    "x_2 = np.linalg.norm(x,2)\n",
    "x_inf = np.linalg.norm(x,np.inf)\n",
    "\n",
    "#8 ||y||0, ||y||1, ||y||2, ||y||inf\n",
    "y_0 = np.count_nonzero(y)\n",
    "y_1 = np.linalg.norm(y,1)\n",
    "y_2 = np.linalg.norm(y,2)\n",
    "y_inf = np.linalg.norm(y,np.inf)\n",
    "\n",
    "#9 ||z||0, ||z||1, ||z||2, ||z||inf\n",
    "z_0 = np.count_nonzero(z)\n",
    "z_1 = np.linalg.norm(z,1)\n",
    "z_2 = np.linalg.norm(z,2)\n",
    "z_inf = np.linalg.norm(z,np.inf)\n",
    "\n",
    "print(\"A_dot_A = \", A_dot_A)\n",
    "print(\"A_hadamard_B = \", A_hadamard_B)\n",
    "print(\"x_kron_y = \", x_kron_y)\n",
    "print(\"AB_T = \", AB_T)\n",
    "print(\"ATBCx = \", ATBCx)\n",
    "print(\"C_x_plus_y = \", C_x_plus_y)\n",
    "print(\"x_0 = \", x_0)\n",
    "print(\"x_1 = \", x_1)\n",
    "print(\"x_2 = \", x_2)\n",
    "print(\"x_inf = \", x_inf)\n",
    "print(\"y_0 = \", y_0)\n",
    "print(\"y_1 = \", y_1)\n",
    "print(\"y_2 = \", y_2)\n",
    "print(\"y_inf = \", y_inf)\n",
    "print(\"z_0 = \", z_0)\n",
    "print(\"z_1 = \", z_1)\n",
    "print(\"z_2 = \", z_2)\n",
    "print(\"z_inf = \", z_inf)"
   ]
  },
  {
   "cell_type": "code",
   "execution_count": null,
   "metadata": {},
   "outputs": [],
   "source": []
  }
 ],
 "metadata": {
  "kernelspec": {
   "display_name": "Python 3 (ipykernel)",
   "language": "python",
   "name": "python3"
  },
  "language_info": {
   "codemirror_mode": {
    "name": "ipython",
    "version": 3
   },
   "file_extension": ".py",
   "mimetype": "text/x-python",
   "name": "python",
   "nbconvert_exporter": "python",
   "pygments_lexer": "ipython3",
   "version": "3.12.5"
  }
 },
 "nbformat": 4,
 "nbformat_minor": 4
}
