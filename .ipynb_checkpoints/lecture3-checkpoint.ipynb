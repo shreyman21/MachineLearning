{
 "cells": [
  {
   "cell_type": "code",
   "execution_count": 3,
   "metadata": {},
   "outputs": [
    {
     "ename": "ValueError",
     "evalue": "shapes (6,3) and (6,3) not aligned: 3 (dim 1) != 6 (dim 0)",
     "output_type": "error",
     "traceback": [
      "\u001b[0;31m---------------------------------------------------------------------------\u001b[0m",
      "\u001b[0;31mValueError\u001b[0m                                Traceback (most recent call last)",
      "Cell \u001b[0;32mIn[3], line 14\u001b[0m\n\u001b[1;32m     10\u001b[0m z \u001b[38;5;241m=\u001b[39m genfromtxt(\u001b[38;5;124m'\u001b[39m\u001b[38;5;124mtest_z.csv\u001b[39m\u001b[38;5;124m'\u001b[39m, delimiter\u001b[38;5;241m=\u001b[39m\u001b[38;5;124m'\u001b[39m\u001b[38;5;124m,\u001b[39m\u001b[38;5;124m'\u001b[39m)\n\u001b[1;32m     13\u001b[0m \u001b[38;5;66;03m#1 <A,A>\u001b[39;00m\n\u001b[0;32m---> 14\u001b[0m A_dot_A \u001b[38;5;241m=\u001b[39m \u001b[43mnp\u001b[49m\u001b[38;5;241;43m.\u001b[39;49m\u001b[43mdot\u001b[49m\u001b[43m(\u001b[49m\u001b[43mA\u001b[49m\u001b[43m,\u001b[49m\u001b[43mA\u001b[49m\u001b[43m)\u001b[49m\n\u001b[1;32m     16\u001b[0m \u001b[38;5;66;03m#2 A hadddamard B\u001b[39;00m\n\u001b[1;32m     17\u001b[0m A_hadamard_B \u001b[38;5;241m=\u001b[39m np\u001b[38;5;241m.\u001b[39mmultiply(A,B)\n",
      "\u001b[0;31mValueError\u001b[0m: shapes (6,3) and (6,3) not aligned: 3 (dim 1) != 6 (dim 0)"
     ]
    }
   ],
   "source": [
    "#Load A,B,C,x,y,z from file into arrays\n",
    "import numpy as np\n",
    "from numpy import genfromtxt\n",
    "from numpy import array \n",
    "from numpy import trace\n",
    "\n",
    "A = genfromtxt('test_A.csv', delimiter=',')\n",
    "B = genfromtxt('test_B.csv', delimiter=',')\n",
    "C = genfromtxt('test_C.csv', delimiter=',')\n",
    "x = genfromtxt('test_x.csv', delimiter=',')\n",
    "y = genfromtxt('test_y.csv', delimiter=',')\n",
    "z = genfromtxt('test_z.csv', delimiter=',')\n",
    "\n",
    "\n",
    "#1 <A,A>\n",
    "A_dot_A = np.dot(A,A)\n",
    "\n",
    "#2 A hadddamard B\n",
    "A_hadamard_B = np.multiply(A,B)\n",
    "\n",
    "#3 Tr(x ⨂ y )\n",
    "x_kron_y = np.kron(x,y)\n",
    "\n",
    "#4 AB^T\n",
    "AB_T = np.dot(A,B.T)\n",
    "\n",
    "#5 A^TBCx\n",
    "ATBCx = np.dot(np.dot(np.dot(A.T,B),C),x)\n",
    "\n",
    "#6 C(x + y)\n",
    "C_x_plus_y = np.dot(C,x+y)\n",
    "\n",
    "#7 ||x||0, ||x||1, ||x||2, ||x||inf\n",
    "x_0 = np.count_nonzero(x)\n",
    "x_1 = np.linalg.norm(x,1)\n",
    "x_2 = np.linalg.norm(x,2)\n",
    "x_inf = np.linalg.norm(x,np.inf)\n",
    "\n",
    "#8 ||y||0, ||y||1, ||y||2, ||y||inf\n",
    "y_0 = np.count_nonzero(y)\n",
    "y_1 = np.linalg.norm(y,1)\n",
    "y_2 = np.linalg.norm(y,2)\n",
    "y_inf = np.linalg.norm(y,np.inf)\n",
    "\n",
    "#9 ||z||0, ||z||1, ||z||2, ||z||inf\n",
    "z_0 = np.count_nonzero(z)\n",
    "z_1 = np.linalg.norm(z,1)\n",
    "z_2 = np.linalg.norm(z,2)\n",
    "z_inf = np.linalg.norm(z,np.inf)\n",
    "\n",
    "print(\"A_dot_A = \", A_dot_A)\n",
    "print(\"A_hadamard_B = \", A_hadamard_B)\n",
    "print(\"x_kron_y = \", x_kron_y)\n",
    "print(\"AB_T = \", AB_T)\n",
    "print(\"ATBCx = \", ATBCx)\n",
    "print(\"C_x_plus_y = \", C_x_plus_y)\n",
    "print(\"x_0 = \", x_0)\n",
    "print(\"x_1 = \", x_1)\n",
    "print(\"x_2 = \", x_2)\n",
    "print(\"x_inf = \", x_inf)\n",
    "print(\"y_0 = \", y_0)\n",
    "print(\"y_1 = \", y_1)\n",
    "print(\"y_2 = \", y_2)\n",
    "print(\"y_inf = \", y_inf)\n",
    "print(\"z_0 = \", z_0)\n",
    "print(\"z_1 = \", z_1)\n",
    "print(\"z_2 = \", z_2)\n",
    "print(\"z_inf = \", z_inf)\n",
    "\n",
    "#Caluculate AB^TCx\n",
    "AB_T_Cx = np.dot(A,np.dot(B.T,np.dot(C,x)))\n",
    "print(\"AB_T_Cx = \", AB_T_Cx)\n",
    "\n",
    "\n",
    "\n"
   ]
  },
  {
   "cell_type": "code",
   "execution_count": null,
   "metadata": {},
   "outputs": [],
   "source": []
  }
 ],
 "metadata": {
  "kernelspec": {
   "display_name": "Python 3 (ipykernel)",
   "language": "python",
   "name": "python3"
  },
  "language_info": {
   "codemirror_mode": {
    "name": "ipython",
    "version": 3
   },
   "file_extension": ".py",
   "mimetype": "text/x-python",
   "name": "python",
   "nbconvert_exporter": "python",
   "pygments_lexer": "ipython3",
   "version": "3.12.5"
  }
 },
 "nbformat": 4,
 "nbformat_minor": 4
}
