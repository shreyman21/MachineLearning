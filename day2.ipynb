{
 "cells": [
  {
   "cell_type": "code",
   "execution_count": 6,
   "id": "57a118a4-a754-4bd0-a115-d776bc85645e",
   "metadata": {},
   "outputs": [
    {
     "name": "stdout",
     "output_type": "stream",
     "text": [
      "[[42]]\n",
      "[[2]\n",
      " [0]\n",
      " [6]\n",
      " [0]]\n",
      "[[14 20]\n",
      " [ 3  0]]\n",
      "[[35 46]\n",
      " [24 32]]\n",
      "[[ 5  8]\n",
      " [ 8 16]]\n",
      "[[52]\n",
      " [24]]\n"
     ]
    }
   ],
   "source": [
    "import numpy as np\n",
    "from numpy import array\n",
    "from numpy import trace\n",
    "\n",
    "x = array([[2],[6]])\n",
    "y = array([[1],[0]])\n",
    "X = array([[7,5],[3,6]])\n",
    "Y = array([[2,4],[1,0]])\n",
    "Z = array([[4,-1,0],[1,1,1]])\n",
    "\n",
    "# 1 Tr(xx^T) + <x,y>\n",
    "result_1 = np.trace(np.dot(x, x.T)) + np.dot(x.T, y)\n",
    "\n",
    "# 2 x ⊗ y\n",
    "result_2 = np.kron(x, y)\n",
    "\n",
    "# 3 Y ⊙ X\n",
    "result_3 = np.multiply(Y, X)\n",
    "\n",
    "# 4 2X + 2Y + X^TY\n",
    "result_4 = 2*X + 2*Y + np.dot(X.T, Y)\n",
    "\n",
    "# 5 <Y,Y>\n",
    "result_5 = np.dot(Y.T, Y)\n",
    "\n",
    "# 6 ZZ^Tx\n",
    "result_6 = np.dot(np.dot(Z, Z.T), x)\n",
    "\n",
    "print(result_1)\n",
    "print(------)\n",
    "print(result_2)\n",
    "print(result_3)\n",
    "print(result_4)\n",
    "print(result_5)\n",
    "print(result_6)"
   ]
  },
  {
   "cell_type": "code",
   "execution_count": null,
   "id": "538236f5-6a04-4ec5-8939-d62994adc923",
   "metadata": {},
   "outputs": [],
   "source": []
  }
 ],
 "metadata": {
  "kernelspec": {
   "display_name": "Python 3 (ipykernel)",
   "language": "python",
   "name": "python3"
  },
  "language_info": {
   "codemirror_mode": {
    "name": "ipython",
    "version": 3
   },
   "file_extension": ".py",
   "mimetype": "text/x-python",
   "name": "python",
   "nbconvert_exporter": "python",
   "pygments_lexer": "ipython3",
   "version": "3.12.5"
  }
 },
 "nbformat": 4,
 "nbformat_minor": 5
}
