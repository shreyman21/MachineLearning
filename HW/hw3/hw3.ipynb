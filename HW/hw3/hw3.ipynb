{
 "cells": [
  {
   "cell_type": "markdown",
   "metadata": {},
   "source": [
    "### Question 1"
   ]
  },
  {
   "cell_type": "code",
   "execution_count": 3,
   "metadata": {},
   "outputs": [
    {
     "name": "stdout",
     "output_type": "stream",
     "text": [
      "Sklearn Linear Regression MSE: 0.04007831617401135\n"
     ]
    }
   ],
   "source": [
    "import pandas as pd\n",
    "from sklearn.model_selection import train_test_split\n",
    "from sklearn.linear_model import LinearRegression\n",
    "from sklearn.preprocessing import StandardScaler\n",
    "from sklearn.metrics import mean_squared_error\n",
    "\n",
    "stock_data = pd.read_csv('/Users/shreyas/Desktop/ML/HW/hw3/stock_prediction_data.csv')\n",
    "stock_price = pd.read_csv('/Users/shreyas/Desktop/ML/HW/hw3/stock_price.csv')\n",
    "scaler = StandardScaler()\n",
    "X = scaler.fit_transform(stock_data)\n",
    "y = stock_price\n",
    "X_train, X_test, y_train, y_test = train_test_split(X, y, test_size=0.2, random_state=42)\n",
    "\n",
    "model = LinearRegression()\n",
    "model.fit(X_train, y_train)\n",
    "y_pred = model.predict(X_test)\n",
    "print(f\"Sklearn Linear Regression MSE: {mean_squared_error(y_test, y_pred)}\")\n"
   ]
  },
  {
   "cell_type": "code",
   "execution_count": 8,
   "metadata": {},
   "outputs": [
    {
     "name": "stdout",
     "output_type": "stream",
     "text": [
      "Gradient Descent MSE: 8.49329046919513\n"
     ]
    }
   ],
   "source": [
    "# Ensure y_train is a NumPy array\n",
    "y_train = y_train.values if isinstance(y_train, pd.DataFrame) else y_train\n",
    "y_train = np.ravel(y_train)  # Flatten the array\n",
    "\n",
    "class GradientDescentLinearRegression:\n",
    "    def __init__(self, learning_rate=0.01, n_iters=1000):\n",
    "        self.learning_rate = learning_rate\n",
    "        self.n_iters = n_iters\n",
    "        self.weights = None\n",
    "        self.bias = None\n",
    "\n",
    "    def fit(self, X, y):\n",
    "        n_samples, n_features = X.shape\n",
    "        self.weights = np.zeros(n_features)\n",
    "        self.bias = 0\n",
    "        \n",
    "        for _ in range(self.n_iters):\n",
    "            # Prediction\n",
    "            y_pred = np.dot(X, self.weights) + self.bias\n",
    "            # Gradients\n",
    "            dw = (1 / n_samples) * np.dot(X.T, (y_pred - y))\n",
    "            db = (1 / n_samples) * np.sum(y_pred - y)\n",
    "            # Update weights and bias\n",
    "            self.weights -= self.learning_rate * dw\n",
    "            self.bias -= self.learning_rate * db\n",
    "    \n",
    "    def predict(self, X):\n",
    "        return np.dot(X, self.weights) + self.bias\n",
    "\n",
    "# Fit the model\n",
    "gd_model = GradientDescentLinearRegression(learning_rate=0.001, n_iters=1000)\n",
    "gd_model.fit(X_train, y_train)  # Ensure X_train and y_train are correctly shaped\n",
    "y_pred_gd = gd_model.predict(X_test)\n",
    "\n",
    "# Evaluate the model\n",
    "print(f\"Gradient Descent MSE: {mean_squared_error(y_test, y_pred_gd)}\")\n"
   ]
  },
  {
   "cell_type": "code",
   "execution_count": 9,
   "metadata": {},
   "outputs": [
    {
     "name": "stdout",
     "output_type": "stream",
     "text": [
      "Closed Form Solution MSE: 0.040078316174012134\n"
     ]
    }
   ],
   "source": [
    "# Closed-Form Solution\n",
    "X_train_bias = np.c_[np.ones((X_train.shape[0], 1)), X_train]\n",
    "X_test_bias = np.c_[np.ones((X_test.shape[0], 1)), X_test]\n",
    "theta_best = np.linalg.inv(X_train_bias.T.dot(X_train_bias)).dot(X_train_bias.T).dot(y_train)\n",
    "\n",
    "y_pred_closed_form = X_test_bias.dot(theta_best)\n",
    "print(f\"Closed Form Solution MSE: {mean_squared_error(y_test, y_pred_closed_form)}\")\n"
   ]
  },
  {
   "cell_type": "markdown",
   "metadata": {},
   "source": [
    "### Question 2"
   ]
  },
  {
   "cell_type": "code",
   "execution_count": 10,
   "metadata": {},
   "outputs": [
    {
     "name": "stdout",
     "output_type": "stream",
     "text": [
      "Polynomial Regression MSE: 0.052199869657269554\n"
     ]
    }
   ],
   "source": [
    "from sklearn.preprocessing import PolynomialFeatures\n",
    "\n",
    "poly = PolynomialFeatures(degree=2)\n",
    "X_poly = poly.fit_transform(X)\n",
    "\n",
    "X_train_poly, X_test_poly, y_train_poly, y_test_poly = train_test_split(X_poly, y, test_size=0.2, random_state=42)\n",
    "\n",
    "# Fit model\n",
    "poly_model = LinearRegression()\n",
    "poly_model.fit(X_train_poly, y_train_poly)\n",
    "y_pred_poly = poly_model.predict(X_test_poly)\n",
    "print(f\"Polynomial Regression MSE: {mean_squared_error(y_test_poly, y_pred_poly)}\")\n"
   ]
  },
  {
   "cell_type": "markdown",
   "metadata": {},
   "source": [
    "### Question 3"
   ]
  },
  {
   "cell_type": "code",
   "execution_count": 11,
   "metadata": {},
   "outputs": [
    {
     "name": "stdout",
     "output_type": "stream",
     "text": [
      "Best a: -0.7000000000000002, Best b: 1.3000000000000005\n"
     ]
    }
   ],
   "source": [
    "import numpy as np\n",
    "\n",
    "# Given data\n",
    "X = np.array([0, 1, 2, 3])\n",
    "y = np.array([1, 0, 2, -2])\n",
    "\n",
    "# Closed-form solution\n",
    "X_bias = np.c_[np.ones((X.shape[0], 1)), X]\n",
    "theta = np.linalg.inv(X_bias.T.dot(X_bias)).dot(X_bias.T).dot(y)\n",
    "\n",
    "a, b = theta[1], theta[0]\n",
    "print(f\"Best a: {a}, Best b: {b}\")\n"
   ]
  },
  {
   "cell_type": "markdown",
   "metadata": {},
   "source": [
    "### Question 4"
   ]
  },
  {
   "cell_type": "code",
   "execution_count": 12,
   "metadata": {},
   "outputs": [
    {
     "name": "stdout",
     "output_type": "stream",
     "text": [
      "Transformed X using feature map:\n",
      "[[ 0.  2.  0.  0.  4.  1.]\n",
      " [ 2. -1.  2.  8.  1.  1.]\n",
      " [-2.  1. -2. -8.  1.  1.]\n",
      " [ 3.  3. 27. 27.  9.  1.]\n",
      " [ 4.  1.  4. 64.  1.  1.]]\n"
     ]
    }
   ],
   "source": [
    "X = np.array([[0, 2], [2, -1], [-2, 1], [3, 3], [4, 1]])\n",
    "\n",
    "def feature_map(X):\n",
    "    phi_1 = X[:, 0]\n",
    "    phi_2 = X[:, 1]\n",
    "    phi_3 = X[:, 0] * X[:, 1]**2\n",
    "    phi_4 = X[:, 0]**3\n",
    "    phi_5 = X[:, 1]**2\n",
    "    phi_6 = np.ones(X.shape[0])\n",
    "    \n",
    "    return np.c_[phi_1, phi_2, phi_3, phi_4, phi_5, phi_6]\n",
    "\n",
    "X_transformed = feature_map(X)\n",
    "print(\"Transformed X using feature map:\")\n",
    "print(X_transformed)\n"
   ]
  },
  {
   "cell_type": "markdown",
   "metadata": {},
   "source": [
    "### Question 5"
   ]
  },
  {
   "cell_type": "code",
   "execution_count": 13,
   "metadata": {},
   "outputs": [
    {
     "name": "stdout",
     "output_type": "stream",
     "text": [
      "Probability of a good date: 0.6000000000000001\n",
      "Probability of food and good date: 0.4\n",
      "Probability of food or travel: 0.6000000000000001\n"
     ]
    }
   ],
   "source": [
    "prob_table = {\n",
    "    'ex': {'good': 0, 'bad': 0.1},\n",
    "    'food': {'good': 0.4, 'bad': 0.1},\n",
    "    'travel': {'good': 0.2, 'bad': 0.1},\n",
    "    'weather': {'good': 0, 'bad': 0.1},\n",
    "}\n",
    "\n",
    "p_good_date = sum([prob_table[topic]['good'] for topic in prob_table])\n",
    "p_bad_date = sum([prob_table[topic]['bad'] for topic in prob_table])\n",
    "\n",
    "p_food_and_good = prob_table['food']['good']\n",
    "p_food_or_travel = prob_table['food']['good'] + prob_table['travel']['good'] - 0\n",
    "\n",
    "print(f\"Probability of a good date: {p_good_date}\")\n",
    "print(f\"Probability of food and good date: {p_food_and_good}\")\n",
    "print(f\"Probability of food or travel: {p_food_or_travel}\")\n"
   ]
  },
  {
   "cell_type": "markdown",
   "metadata": {},
   "source": [
    "### Question 6"
   ]
  },
  {
   "cell_type": "code",
   "execution_count": 22,
   "metadata": {},
   "outputs": [
    {
     "data": {
      "image/png": "[encoded data removed]",
      "text/plain": [
       "<Figure size 800x600 with 1 Axes>"
      ]
     },
     "metadata": {},
     "output_type": "display_data"
    },
    {
     "data": {
      "image/png": "[encoded data removed]",
      "text/plain": [
       "<Figure size 800x600 with 1 Axes>"
      ]
     },
     "metadata": {},
     "output_type": "display_data"
    },
    {
     "data": {
      "image/png": "[encoded data removed]",
      "text/plain": [
       "<Figure size 800x600 with 1 Axes>"
      ]
     },
     "metadata": {},
     "output_type": "display_data"
    },
    {
     "name": "stdout",
     "output_type": "stream",
     "text": [
      "SAT Analysis:\n",
      "  - Average SAT Score: 1147.8247809762204\n",
      "  - Probability of scoring more than 1200: 0.3579474342928661\n",
      "Lunch Wait Time Analysis:\n",
      "  - Average lunch wait time: 1.0445226130653267 minutes\n",
      "  - Probability of waiting more than 5 minutes: 0.005025125628140704\n",
      "Student Age Analysis:\n",
      "  - Average student age: 19.92828535669587 years\n",
      "  - Probability of being younger than 19: 0.34167709637046306\n"
     ]
    }
   ],
   "source": [
    "import pandas as pd\n",
    "import matplotlib.pyplot as plt\n",
    "\n",
    "# File paths\n",
    "sat_file_path = '/Users/shreyas/Desktop/ML/HW/hw3/SAT (1).csv'\n",
    "lunch_wait_time_file_path = '/Users/shreyas/Desktop/ML/HW/hw3/lunch_wait_time (1).csv'\n",
    "student_age_file_path = '/Users/shreyas/Desktop/ML/HW/hw3/student_age (1).csv'\n",
    "\n",
    "# Load the datasets\n",
    "sat_data = pd.read_csv(sat_file_path)\n",
    "lunch_data = pd.read_csv(lunch_wait_time_file_path)\n",
    "student_age_data = pd.read_csv(student_age_file_path)\n",
    "\n",
    "# 1. SAT.csv Analysis\n",
    "# The column for SAT scores is '1151'\n",
    "sat_avg = sat_data['1151'].mean()  # Average SAT score\n",
    "p_more_than_1200 = (sat_data[sat_data['1151'] > 1200].count() / len(sat_data))['1151']  # Probability of SAT > 1200\n",
    "\n",
    "# Generate histogram for SAT scores\n",
    "plt.figure(figsize=(8, 6))\n",
    "sat_data['1151'].hist(bins=20)\n",
    "plt.title('SAT Scores Histogram')\n",
    "plt.xlabel('SAT Score')\n",
    "plt.ylabel('Frequency')\n",
    "plt.show()\n",
    "\n",
    "# 2. Lunch_wait_time.csv Analysis\n",
    "# The column for lunch wait time is '0.24'\n",
    "lunch_avg = lunch_data['0.24'].mean()  # Average wait time\n",
    "p_wait_more_than_5 = (lunch_data[lunch_data['0.24'] > 5].count() / len(lunch_data))['0.24']  # Probability wait time > 5 minutes\n",
    "\n",
    "# Generate histogram for Lunch wait times\n",
    "plt.figure(figsize=(8, 6))\n",
    "lunch_data['0.24'].hist(bins=20)\n",
    "plt.title('Lunch Wait Time Histogram')\n",
    "plt.xlabel('Wait Time (minutes)')\n",
    "plt.ylabel('Frequency')\n",
    "plt.show()\n",
    "\n",
    "# 3. Student_age.csv Analysis\n",
    "# The column for student age is '22.6'\n",
    "student_age_avg = student_age_data['22.6'].mean()  # Average age\n",
    "p_age_less_than_19 = (student_age_data[student_age_data['22.6'] < 19].count() / len(student_age_data))['22.6']  # Probability age < 19\n",
    "\n",
    "# Generate histogram for Student ages\n",
    "plt.figure(figsize=(8, 6))\n",
    "student_age_data['22.6'].hist(bins=20)\n",
    "plt.title('Student Age Histogram')\n",
    "plt.xlabel('Age')\n",
    "plt.ylabel('Frequency')\n",
    "plt.show()\n",
    "\n",
    "# Display the results\n",
    "print(f\"SAT Analysis:\")\n",
    "print(f\"  - Average SAT Score: {sat_avg}\")\n",
    "print(f\"  - Probability of scoring more than 1200: {p_more_than_1200}\")\n",
    "\n",
    "print(f\"Lunch Wait Time Analysis:\")\n",
    "print(f\"  - Average lunch wait time: {lunch_avg} minutes\")\n",
    "print(f\"  - Probability of waiting more than 5 minutes: {p_wait_more_than_5}\")\n",
    "\n",
    "print(f\"Student Age Analysis:\")\n",
    "print(f\"  - Average student age: {student_age_avg} years\")\n",
    "print(f\"  - Probability of being younger than 19: {p_age_less_than_19}\")\n"
   ]
  },
  {
   "cell_type": "markdown",
   "metadata": {},
   "source": [
    "### Question 7"
   ]
  },
  {
   "cell_type": "code",
   "execution_count": 23,
   "metadata": {},
   "outputs": [
    {
     "name": "stdout",
     "output_type": "stream",
     "text": [
      "Value of b: 1.1536528590388855\n",
      "Probability for 0 <= x <= 0.3: 0.26399999999999996\n"
     ]
    }
   ],
   "source": [
    "from scipy.integrate import quad\n",
    "from scipy.optimize import fsolve\n",
    "\n",
    "# Given function\n",
    "def p_x(x):\n",
    "    return x**2 - x + 1\n",
    "\n",
    "# Total probability = 1\n",
    "def total_probability(b):\n",
    "    integral, _ = quad(p_x, 0, b)\n",
    "    return integral - 1\n",
    "\n",
    "# Solve for b\n",
    "b_solution = fsolve(total_probability, 2)\n",
    "print(f\"Value of b: {b_solution[0]}\")\n",
    "\n",
    "# Probability between 0 and 0.3\n",
    "prob_0_3, _ = quad(p_x, 0, 0.3)\n",
    "print(f\"Probability for 0 <= x <= 0.3: {prob_0_3}\")\n"
   ]
  },
  {
   "cell_type": "markdown",
   "metadata": {},
   "source": [
    "### Question 8"
   ]
  },
  {
   "cell_type": "code",
   "execution_count": 28,
   "metadata": {},
   "outputs": [
    {
     "name": "stdout",
     "output_type": "stream",
     "text": [
      "Simplified Cost Derivative: 1/n*(w*Phi.T - y.T)*Phi + 1/n*Phi.T*(w*Phi - y)\n"
     ]
    }
   ],
   "source": [
    "import sympy as sp\n",
    "\n",
    "# Define symbols\n",
    "n = sp.Symbol('n')\n",
    "w = sp.Symbol('w')\n",
    "Phi = sp.MatrixSymbol('Phi', n, n)\n",
    "y = sp.MatrixSymbol('y', n, 1)\n",
    "\n",
    "# Derivation of cost function\n",
    "cost = (1/n) * (Phi*w - y).T * (Phi*w - y)\n",
    "\n",
    "# Simplified derivative of the cost function\n",
    "cost_derivative = sp.simplify(sp.diff(cost, w))\n",
    "print(f\"Simplified Cost Derivative: {cost_derivative}\")\n"
   ]
  }
 ],
 "metadata": {
  "kernelspec": {
   "display_name": "Python 3 (ipykernel)",
   "language": "python",
   "name": "python3"
  },
  "language_info": {
   "codemirror_mode": {
    "name": "ipython",
    "version": 3
   },
   "file_extension": ".py",
   "mimetype": "text/x-python",
   "name": "python",
   "nbconvert_exporter": "python",
   "pygments_lexer": "ipython3",
   "version": "3.12.5"
  }
 },
 "nbformat": 4,
 "nbformat_minor": 2
}
